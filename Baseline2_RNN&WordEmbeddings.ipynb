{
  "nbformat": 4,
  "nbformat_minor": 0,
  "metadata": {
    "colab": {
      "name": "Project 1.1.ipynb",
      "provenance": [],
      "collapsed_sections": [],
      "toc_visible": true
    },
    "kernelspec": {
      "name": "python3",
      "display_name": "Python 3"
    },
    "language_info": {
      "name": "python"
    },
    "accelerator": "GPU"
  },
  "cells": [
    {
      "cell_type": "markdown",
      "source": [
        "###Set up"
      ],
      "metadata": {
        "id": "VuWDRZIXHM7A"
      }
    },
    {
      "cell_type": "code",
      "execution_count": null,
      "metadata": {
        "colab": {
          "base_uri": "https://localhost:8080/"
        },
        "id": "bpmbeOHlHFj7",
        "outputId": "886db518-5b9e-480c-98aa-2a90adafbd47"
      },
      "outputs": [
        {
          "output_type": "stream",
          "name": "stdout",
          "text": [
            "[nltk_data] Downloading package stopwords to /root/nltk_data...\n",
            "[nltk_data]   Unzipping corpora/stopwords.zip.\n",
            "[nltk_data] Downloading package punkt to /root/nltk_data...\n",
            "[nltk_data]   Unzipping tokenizers/punkt.zip.\n",
            "Collecting keras-layer-normalization\n",
            "  Downloading keras-layer-normalization-0.16.0.tar.gz (3.9 kB)\n",
            "Requirement already satisfied: numpy in /usr/local/lib/python3.7/dist-packages (from keras-layer-normalization) (1.21.5)\n",
            "Building wheels for collected packages: keras-layer-normalization\n",
            "  Building wheel for keras-layer-normalization (setup.py) ... \u001b[?25l\u001b[?25hdone\n",
            "  Created wheel for keras-layer-normalization: filename=keras_layer_normalization-0.16.0-py3-none-any.whl size=4668 sha256=56553eef56337abbde8e46ece70db4421ad2256747e6ce7f4532639834deb2db\n",
            "  Stored in directory: /root/.cache/pip/wheels/85/5d/1c/2e619f594f69fbcf8bc20943b27d414871c409be053994813e\n",
            "Successfully built keras-layer-normalization\n",
            "Installing collected packages: keras-layer-normalization\n",
            "Successfully installed keras-layer-normalization-0.16.0\n"
          ]
        }
      ],
      "source": [
        "import os\n",
        "import nltk\n",
        "nltk.download('stopwords')\n",
        "nltk.download('punkt')\n",
        "import math\n",
        "import pandas as pd\n",
        "import numpy as np\n",
        "import keras\n",
        "import tensorflow as tf\n",
        "import matplotlib.pyplot as plt\n",
        "from collections import Counter\n",
        "from itertools import chain\n",
        "from sklearn.model_selection import StratifiedKFold\n",
        "from sklearn.metrics import accuracy_score, f1_score, precision_recall_fscore_support, classification_report\n",
        "from keras.models import Sequential, Model\n",
        "from keras.layers import Dense, Embedding, Dropout, BatchNormalization, Activation, Input, \\\n",
        "    Conv1D, MaxPool1D, Flatten, Concatenate, Add, Bidirectional, SimpleRNN, LSTM, GRU\n",
        "from tensorflow.keras.optimizers import SGD, Adam, RMSprop\n",
        "!pip install keras-layer-normalization\n",
        "from keras_layer_normalization import LayerNormalization\n",
        "from nltk.corpus import stopwords\n",
        "from nltk.stem import PorterStemmer\n",
        "\n",
        "stopwords = set(stopwords.words(\"english\"))\n",
        "ps = PorterStemmer()\n",
        "\n",
        "# just to ignore the matplotlib warnings to make the plots look better\n",
        "import warnings\n",
        "warnings.filterwarnings('ignore')"
      ]
    },
    {
      "cell_type": "code",
      "source": [
        "from google.colab import drive\n",
        "drive.mount('/content/drive')"
      ],
      "metadata": {
        "colab": {
          "base_uri": "https://localhost:8080/"
        },
        "id": "pJXZP7EWHMDR",
        "outputId": "924b96c5-9129-4aa6-cc45-1e0cab7f5a0a"
      },
      "execution_count": null,
      "outputs": [
        {
          "output_type": "stream",
          "name": "stdout",
          "text": [
            "Mounted at /content/drive\n"
          ]
        }
      ]
    },
    {
      "cell_type": "markdown",
      "source": [
        "Load data\n"
      ],
      "metadata": {
        "id": "ZOpieeqdIHOv"
      }
    },
    {
      "cell_type": "code",
      "source": [
        "#Helper function\n",
        "def load_data(split_name='train', columns=['text', 'stars'], folder='data'):\n",
        "    '''\n",
        "        \"split_name\" may be set as 'train', 'valid' or 'test' to load the corresponding dataset.\n",
        "        \n",
        "        You may also specify the column names to load any columns in the .csv data file.\n",
        "        Among many, \"text\" can be used as model input, and \"stars\" column is the labels (sentiment). \n",
        "        If you like, you are free to use columns other than \"text\" for prediction.\n",
        "    '''\n",
        "    try:\n",
        "        print(f\"select [{', '.join(columns)}] columns from the {split_name} split\")\n",
        "        df = pd.read_csv(f'{folder}/{split_name}.csv')\n",
        "        df = df.loc[:,columns]\n",
        "        print(\"Success\")\n",
        "        return df\n",
        "    except:\n",
        "        print(f\"Failed loading specified columns... Returning all columns from the {split_name} split\")\n",
        "        df = pd.read_csv(f'{folder}/{split_name}.csv')\n",
        "        return df\n",
        "\n",
        "'''def load_data(file_name):\n",
        "    \"\"\"\n",
        "    :param file_name: a file name, type: str\n",
        "    return a list of ids, a list of reviews, a list of labels\n",
        "    https://pandas.pydata.org/pandas-docs/stable/generated/pandas.read_csv.html\n",
        "    \"\"\"\n",
        "    df = pd.read_csv(file_name)\n",
        "\n",
        "    return df[\"id\"], df[\"text\"], df[\"label\"]'''\n",
        "\n",
        "def load_labels(file_name):\n",
        "    \"\"\"\n",
        "    :param file_name: a file name, type: str\n",
        "    return a list of labels\n",
        "    \"\"\"\n",
        "    return pd.read_csv(file_name)[\"label\"]\n",
        "\n",
        "def write_predictions(file_name, pred):\n",
        "    df = pd.DataFrame(zip(range(len(pred)), pred))\n",
        "    df.columns = [\"id\", \"label\"]\n",
        "    df.to_csv(file_name, index=False)"
      ],
      "metadata": {
        "id": "FvBGRPrhIGza"
      },
      "execution_count": null,
      "outputs": []
    },
    {
      "cell_type": "code",
      "source": [
        "data_dir = '/content/drive/MyDrive/Colab Notebooks/COMP4332/Project 1/data'\n",
        "train_df = load_data('train', columns=['text', 'stars', 'review_id'], folder=data_dir)\n",
        "valid_df = load_data('valid', columns=['text', 'stars', 'review_id'], folder=data_dir)\n",
        "test_df = load_data('test', columns=['text','review_id'], folder=data_dir)"
      ],
      "metadata": {
        "colab": {
          "base_uri": "https://localhost:8080/"
        },
        "id": "NkpRGDVqIMar",
        "outputId": "6a6ac13f-802b-49a1-9a89-2c07dada620e"
      },
      "execution_count": null,
      "outputs": [
        {
          "output_type": "stream",
          "name": "stdout",
          "text": [
            "select [text, stars, review_id] columns from the train split\n",
            "Success\n",
            "select [text, stars, review_id] columns from the valid split\n",
            "Success\n",
            "select [text, review_id] columns from the test split\n",
            "Success\n"
          ]
        }
      ]
    },
    {
      "cell_type": "code",
      "source": [
        "train_df['text length'] = train_df['text'].apply(len)\n",
        "train_df.head()"
      ],
      "metadata": {
        "colab": {
          "base_uri": "https://localhost:8080/",
          "height": 206
        },
        "id": "et9OiZG4LeEy",
        "outputId": "2c3ba509-ce32-44a1-85b0-de1e2b4259fd"
      },
      "execution_count": null,
      "outputs": [
        {
          "output_type": "execute_result",
          "data": {
            "text/plain": [
              "                                                text  stars  text length\n",
              "0  I've been here a handful of times now and I've...      5          699\n",
              "1  The service was terrible. The food was just ok...      1           98\n",
              "2  Alil pricey for the location but completly get...      4           95\n",
              "3  Don't get your car washed here. Paid 11 and my...      1          178\n",
              "4  Cute but tight. Not expensive and creative. I ...      5          188"
            ],
            "text/html": [
              "\n",
              "  <div id=\"df-761abd53-1267-4618-a7af-80bb05203d6f\">\n",
              "    <div class=\"colab-df-container\">\n",
              "      <div>\n",
              "<style scoped>\n",
              "    .dataframe tbody tr th:only-of-type {\n",
              "        vertical-align: middle;\n",
              "    }\n",
              "\n",
              "    .dataframe tbody tr th {\n",
              "        vertical-align: top;\n",
              "    }\n",
              "\n",
              "    .dataframe thead th {\n",
              "        text-align: right;\n",
              "    }\n",
              "</style>\n",
              "<table border=\"1\" class=\"dataframe\">\n",
              "  <thead>\n",
              "    <tr style=\"text-align: right;\">\n",
              "      <th></th>\n",
              "      <th>text</th>\n",
              "      <th>stars</th>\n",
              "      <th>text length</th>\n",
              "    </tr>\n",
              "  </thead>\n",
              "  <tbody>\n",
              "    <tr>\n",
              "      <th>0</th>\n",
              "      <td>I've been here a handful of times now and I've...</td>\n",
              "      <td>5</td>\n",
              "      <td>699</td>\n",
              "    </tr>\n",
              "    <tr>\n",
              "      <th>1</th>\n",
              "      <td>The service was terrible. The food was just ok...</td>\n",
              "      <td>1</td>\n",
              "      <td>98</td>\n",
              "    </tr>\n",
              "    <tr>\n",
              "      <th>2</th>\n",
              "      <td>Alil pricey for the location but completly get...</td>\n",
              "      <td>4</td>\n",
              "      <td>95</td>\n",
              "    </tr>\n",
              "    <tr>\n",
              "      <th>3</th>\n",
              "      <td>Don't get your car washed here. Paid 11 and my...</td>\n",
              "      <td>1</td>\n",
              "      <td>178</td>\n",
              "    </tr>\n",
              "    <tr>\n",
              "      <th>4</th>\n",
              "      <td>Cute but tight. Not expensive and creative. I ...</td>\n",
              "      <td>5</td>\n",
              "      <td>188</td>\n",
              "    </tr>\n",
              "  </tbody>\n",
              "</table>\n",
              "</div>\n",
              "      <button class=\"colab-df-convert\" onclick=\"convertToInteractive('df-761abd53-1267-4618-a7af-80bb05203d6f')\"\n",
              "              title=\"Convert this dataframe to an interactive table.\"\n",
              "              style=\"display:none;\">\n",
              "        \n",
              "  <svg xmlns=\"http://www.w3.org/2000/svg\" height=\"24px\"viewBox=\"0 0 24 24\"\n",
              "       width=\"24px\">\n",
              "    <path d=\"M0 0h24v24H0V0z\" fill=\"none\"/>\n",
              "    <path d=\"M18.56 5.44l.94 2.06.94-2.06 2.06-.94-2.06-.94-.94-2.06-.94 2.06-2.06.94zm-11 1L8.5 8.5l.94-2.06 2.06-.94-2.06-.94L8.5 2.5l-.94 2.06-2.06.94zm10 10l.94 2.06.94-2.06 2.06-.94-2.06-.94-.94-2.06-.94 2.06-2.06.94z\"/><path d=\"M17.41 7.96l-1.37-1.37c-.4-.4-.92-.59-1.43-.59-.52 0-1.04.2-1.43.59L10.3 9.45l-7.72 7.72c-.78.78-.78 2.05 0 2.83L4 21.41c.39.39.9.59 1.41.59.51 0 1.02-.2 1.41-.59l7.78-7.78 2.81-2.81c.8-.78.8-2.07 0-2.86zM5.41 20L4 18.59l7.72-7.72 1.47 1.35L5.41 20z\"/>\n",
              "  </svg>\n",
              "      </button>\n",
              "      \n",
              "  <style>\n",
              "    .colab-df-container {\n",
              "      display:flex;\n",
              "      flex-wrap:wrap;\n",
              "      gap: 12px;\n",
              "    }\n",
              "\n",
              "    .colab-df-convert {\n",
              "      background-color: #E8F0FE;\n",
              "      border: none;\n",
              "      border-radius: 50%;\n",
              "      cursor: pointer;\n",
              "      display: none;\n",
              "      fill: #1967D2;\n",
              "      height: 32px;\n",
              "      padding: 0 0 0 0;\n",
              "      width: 32px;\n",
              "    }\n",
              "\n",
              "    .colab-df-convert:hover {\n",
              "      background-color: #E2EBFA;\n",
              "      box-shadow: 0px 1px 2px rgba(60, 64, 67, 0.3), 0px 1px 3px 1px rgba(60, 64, 67, 0.15);\n",
              "      fill: #174EA6;\n",
              "    }\n",
              "\n",
              "    [theme=dark] .colab-df-convert {\n",
              "      background-color: #3B4455;\n",
              "      fill: #D2E3FC;\n",
              "    }\n",
              "\n",
              "    [theme=dark] .colab-df-convert:hover {\n",
              "      background-color: #434B5C;\n",
              "      box-shadow: 0px 1px 3px 1px rgba(0, 0, 0, 0.15);\n",
              "      filter: drop-shadow(0px 1px 2px rgba(0, 0, 0, 0.3));\n",
              "      fill: #FFFFFF;\n",
              "    }\n",
              "  </style>\n",
              "\n",
              "      <script>\n",
              "        const buttonEl =\n",
              "          document.querySelector('#df-761abd53-1267-4618-a7af-80bb05203d6f button.colab-df-convert');\n",
              "        buttonEl.style.display =\n",
              "          google.colab.kernel.accessAllowed ? 'block' : 'none';\n",
              "\n",
              "        async function convertToInteractive(key) {\n",
              "          const element = document.querySelector('#df-761abd53-1267-4618-a7af-80bb05203d6f');\n",
              "          const dataTable =\n",
              "            await google.colab.kernel.invokeFunction('convertToInteractive',\n",
              "                                                     [key], {});\n",
              "          if (!dataTable) return;\n",
              "\n",
              "          const docLinkHtml = 'Like what you see? Visit the ' +\n",
              "            '<a target=\"_blank\" href=https://colab.research.google.com/notebooks/data_table.ipynb>data table notebook</a>'\n",
              "            + ' to learn more about interactive tables.';\n",
              "          element.innerHTML = '';\n",
              "          dataTable['output_type'] = 'display_data';\n",
              "          await google.colab.output.renderOutput(dataTable, element);\n",
              "          const docLink = document.createElement('div');\n",
              "          docLink.innerHTML = docLinkHtml;\n",
              "          element.appendChild(docLink);\n",
              "        }\n",
              "      </script>\n",
              "    </div>\n",
              "  </div>\n",
              "  "
            ]
          },
          "metadata": {},
          "execution_count": 5
        }
      ]
    },
    {
      "cell_type": "markdown",
      "source": [
        "###Visualize data"
      ],
      "metadata": {
        "id": "lASC3ATLMIAd"
      }
    },
    {
      "cell_type": "code",
      "source": [
        "import seaborn as sns"
      ],
      "metadata": {
        "id": "8uDZ1AOgMLjP"
      },
      "execution_count": null,
      "outputs": []
    },
    {
      "cell_type": "code",
      "source": [
        "g = sns.FacetGrid(data=train_df[ train_df['text length']<2000 ], col='stars')\n",
        "g.map(plt.hist, 'text length', bins=50)"
      ],
      "metadata": {
        "colab": {
          "base_uri": "https://localhost:8080/",
          "height": 219
        },
        "id": "5je-pWK0MWaB",
        "outputId": "b7d506e4-e3bc-4db6-fe65-423933507a69"
      },
      "execution_count": null,
      "outputs": [
        {
          "output_type": "execute_result",
          "data": {
            "text/plain": [
              "<seaborn.axisgrid.FacetGrid at 0x7f06b7019210>"
            ]
          },
          "metadata": {},
          "execution_count": 7
        },
        {
          "output_type": "display_data",
          "data": {
            "text/plain": [
              "<Figure size 1080x216 with 5 Axes>"
            ],
            "image/png": "[encoded data removed]"
          },
          "metadata": {
            "needs_background": "light"
          }
        }
      ]
    },
    {
      "cell_type": "markdown",
      "source": [
        "*   There is a high number of 4-star and 5-star reviews \n",
        "*   Text length distribution is similar across 5 ratings (skewed a lot in 4&5-star)\n"
      ],
      "metadata": {
        "id": "nRAkC6WtMqYo"
      }
    },
    {
      "cell_type": "code",
      "source": [
        "sns.boxplot(x='stars', y='text length', data=train_df)"
      ],
      "metadata": {
        "colab": {
          "base_uri": "https://localhost:8080/",
          "height": 297
        },
        "id": "VNFNACpKM73Q",
        "outputId": "0d2cdae5-8ea1-4770-d46c-f7d41e973835"
      },
      "execution_count": null,
      "outputs": [
        {
          "output_type": "execute_result",
          "data": {
            "text/plain": [
              "<matplotlib.axes._subplots.AxesSubplot at 0x7f06b3627f90>"
            ]
          },
          "metadata": {},
          "execution_count": 8
        },
        {
          "output_type": "display_data",
          "data": {
            "text/plain": [
              "<Figure size 432x288 with 1 Axes>"
            ],
            "image/png": "[encoded data removed]"
          },
          "metadata": {
            "needs_background": "light"
          }
        }
      ]
    },
    {
      "cell_type": "markdown",
      "source": [
        "\n",
        "\n",
        "*  Text lengths are longer for fewer stars\n",
        "*  Too many outliers -> text length is not usefull"
      ],
      "metadata": {
        "id": "KQnV3H0jNyDE"
      }
    },
    {
      "cell_type": "code",
      "source": [
        "sns.countplot('stars', data = train_df, palette=\"husl\")"
      ],
      "metadata": {
        "colab": {
          "base_uri": "https://localhost:8080/",
          "height": 297
        },
        "id": "1O_WWirCYcuf",
        "outputId": "3988dee6-5b39-4373-ff86-d8919e88136d"
      },
      "execution_count": null,
      "outputs": [
        {
          "output_type": "execute_result",
          "data": {
            "text/plain": [
              "<matplotlib.axes._subplots.AxesSubplot at 0x7f06b3148850>"
            ]
          },
          "metadata": {},
          "execution_count": 9
        },
        {
          "output_type": "display_data",
          "data": {
            "text/plain": [
              "<Figure size 432x288 with 1 Axes>"
            ],
            "image/png": "[encoded data removed]"
          },
          "metadata": {
            "needs_background": "light"
          }
        }
      ]
    },
    {
      "cell_type": "markdown",
      "source": [
        "The data for 2,3,4 stars is too little -> hard to train model to differentiate between them"
      ],
      "metadata": {
        "id": "QJWrUrwyFmc5"
      }
    },
    {
      "cell_type": "markdown",
      "source": [
        "###Pre-processing helper functions"
      ],
      "metadata": {
        "id": "Kf9GabHxQASP"
      }
    },
    {
      "cell_type": "code",
      "source": [
        "def lower(s):\n",
        "    \"\"\"\n",
        "    :param s: a string.\n",
        "    return a string with lower characters\n",
        "    Note that we allow the input to be nested string of a list.\n",
        "    e.g.\n",
        "    Input: 'Text mining is to identify useful information.'\n",
        "    Output: 'text mining is to identify useful information.'\n",
        "    \"\"\"\n",
        "    if isinstance(s, list):\n",
        "        return [lower(t) for t in s]\n",
        "    if isinstance(s, str):\n",
        "        return s.lower()\n",
        "    else:\n",
        "        raise NotImplementedError(\"unknown datatype\")\n",
        "\n",
        "\n",
        "def tokenize(text):\n",
        "    \"\"\"\n",
        "    :param text: a doc with multiple sentences, type: str\n",
        "    return a word list, type: list\n",
        "    e.g.\n",
        "    Input: 'Text mining is to identify useful information.'\n",
        "    Output: ['Text', 'mining', 'is', 'to', 'identify', 'useful', 'information', '.']\n",
        "    \"\"\"\n",
        "    return nltk.word_tokenize(text)\n",
        "\n",
        "\n",
        "def stem(tokens):\n",
        "    \"\"\"\n",
        "    :param tokens: a list of tokens, type: list\n",
        "    return a list of stemmed words, type: list\n",
        "    e.g.\n",
        "    Input: ['Text', 'mining', 'is', 'to', 'identify', 'useful', 'information', '.']\n",
        "    Output: ['text', 'mine', 'is', 'to', 'identifi', 'use', 'inform', '.']\n",
        "    \"\"\"\n",
        "    ### equivalent code\n",
        "    # results = list()\n",
        "    # for token in tokens:\n",
        "    #     results.append(ps.stem(token))\n",
        "    # return results\n",
        "\n",
        "    return [ps.stem(token) for token in tokens]\n",
        "\n",
        "'''def remove_contractions(tokens):\n",
        "    con = {\"don't\", \"doesn't\", \"wouldn't\", \"won't\", \"isn't\", \"aren't\", \"didn't\", \"was't\", \" weren't\", \"shouldn't\", \"n't\"}\n",
        "    result = []\n",
        "    for token in tokens:\n",
        "        if token in con:\n",
        "            result.append(\"not\")\n",
        "        else:\n",
        "            result.append(token)\n",
        "    return result'''\n",
        "\n",
        "'''def n_gram(tokens, n=1):\n",
        "    \"\"\"\n",
        "    :param tokens: a list of tokens, type: list\n",
        "    :param n: the corresponding n-gram, type: int\n",
        "    return a list of n-gram tokens, type: list\n",
        "    e.g.\n",
        "    Input: ['text', 'mine', 'is', 'to', 'identifi', 'use', 'inform', '.'], 2\n",
        "    Output: ['text mine', 'mine is', 'is to', 'to identifi', 'identifi use', 'use inform', 'inform .']\n",
        "    \"\"\"\n",
        "    if n == 1:\n",
        "        return tokens\n",
        "    else:\n",
        "        results = list()\n",
        "        for i in range(len(tokens)-n+1):\n",
        "            # tokens[i:i+n] will return a sublist from i th to i+n th (i+n th is not included)\n",
        "            results.append(\" \".join(tokens[i:i+n]))\n",
        "        return results'''\n",
        "\n",
        "def filter_stopwords(tokens):\n",
        "    \"\"\"\n",
        "    :param tokens: a list of tokens, type: list\n",
        "    return a list of filtered tokens, type: list\n",
        "    e.g.\n",
        "    Input: ['text', 'mine', 'is', 'to', 'identifi', 'use', 'inform', '.']\n",
        "    Output: ['text', 'mine', 'identifi', 'use', 'inform', '.']\n",
        "    \"\"\"\n",
        "    ### equivalent code\n",
        "    # results = list()\n",
        "    # for token in tokens:\n",
        "    #     if token not in stopwords and not token.isnumeric():\n",
        "    #         results.append(token)\n",
        "    # return results\n",
        "\n",
        "    return [token for token in tokens if token not in stopwords and not token.isnumeric()]\n",
        "\n",
        "import string\n",
        "def filter_punctuations(tokens):\n",
        "    return [token for token in tokens if token not in string.punctuation]\n",
        "\n",
        "'''def get_onehot_vector(feats, feats_dict):\n",
        "    \"\"\"\n",
        "    :param data: a list of features, type: list\n",
        "    :param feats_dict: a dict from features to indices, type: dict\n",
        "    return a feature vector,\n",
        "    \"\"\"\n",
        "    # initialize the vector as all zeros\n",
        "    vector = np.zeros(len(feats_dict), dtype=np.float)\n",
        "    for f in feats:\n",
        "        # get the feature index, return -1 if the feature is not existed\n",
        "        f_idx = feats_dict.get(f, -1)\n",
        "        if f_idx != -1:\n",
        "            # set the corresponding element as 1\n",
        "            vector[f_idx] = 1\n",
        "    return vector'''  \n",
        "\n",
        "def get_feats_dict(feats, min_freq=-1, max_freq=-1, max_size=-1):\n",
        "    \"\"\"\n",
        "    :param feats: a list of features, type: list(list)\n",
        "    :param min_freq: the lowest fequency that the fequency of a feature smaller than it will be filtered out\n",
        "    :param max_freq: the highest fequency that the fequency of a feature larger than it will be filtered out\n",
        "    :param max_size: the max size of feature dict\n",
        "    return a feature dict that maps features to indices, sorted by frequencies\n",
        "    # Counter document: https://docs.python.org/3.6/library/collections.html#collections.Counter\n",
        "    \"\"\"\n",
        "    # count all features\n",
        "    feat_cnt = Counter(feats) # [\"text\", \"text\", \"mine\"] --> {\"text\": 2, \"mine\": 1}\n",
        "    if max_size > 0 and min_freq == -1 and max_freq == -1:\n",
        "        valid_feats = [f for f, cnt in feat_cnt.most_common(max_size)]  #output n highest-freq (word, cnt)\n",
        "    else:\n",
        "        valid_feats = list()\n",
        "        for f, cnt in feat_cnt.most_common():\n",
        "            if (min_freq == -1 or cnt >= min_freq) and (max_freq == -1 or cnt <= max_freq):\n",
        "                valid_feats.append(f)\n",
        "    if max_size > 0 and len(valid_feats) > max_size:\n",
        "        valid_feats = valid_feats[:max_size]        \n",
        "    print(\"Size of features:\", len(valid_feats))\n",
        "    \n",
        "    # build a mapping from features to indices\n",
        "    feats_dict = dict(zip(valid_feats, range(len(valid_feats))))\n",
        "    return feats_dict\n",
        "\n",
        "def get_index_vector(feats, feats_dict, max_len):\n",
        "    \"\"\"\n",
        "    :param feats: a list of features, type: list\n",
        "    :param feats_dict: a dict from features to indices, type: dict\n",
        "    :param feats: a list of features, type: list\n",
        "    return a feature vector,\n",
        "    \"\"\"\n",
        "    # initialize the vector as all zeros\n",
        "    vector = np.zeros(max_len, dtype=np.int64)\n",
        "    for i, f in enumerate(feats):\n",
        "        if i == max_len:\n",
        "            break\n",
        "        # get the feature index, return 1 (<unk>) if the feature is not existed\n",
        "        f_idx = feats_dict.get(f, 1)\n",
        "        vector[i] = f_idx\n",
        "    return vector"
      ],
      "metadata": {
        "id": "kZ6WkJWkQIuY"
      },
      "execution_count": null,
      "outputs": []
    },
    {
      "cell_type": "markdown",
      "source": [
        "###RNN classifier"
      ],
      "metadata": {
        "id": "RCZ3sIdn3jvQ"
      }
    },
    {
      "cell_type": "code",
      "source": [
        "def build_RNN(input_length, vocab_size, embedding_size,\n",
        "              hidden_size, output_size,\n",
        "              num_rnn_layers, num_mlp_layers,\n",
        "              rnn_type=\"lstm\",\n",
        "              bidirectional=False,\n",
        "              embedding_matrix=None,\n",
        "              activation=\"tanh\",\n",
        "              dropout_rate=0.0,\n",
        "              batch_norm=False,\n",
        "              l2_reg=0.0,\n",
        "              loss=\"categorical_crossentropy\",\n",
        "              optimizer=\"Adam\",\n",
        "              learning_rate=0.001,\n",
        "              metric=\"accuracy\"):\n",
        "    \"\"\"\n",
        "    :param input_length: the maximum length of sentences, type: int\n",
        "    :param vocab_size: the vacabulary size, type: int\n",
        "    :param embedding_size: the dimension of word representations, type: int\n",
        "    :param hidden_size: the dimension of the hidden states, type: int\n",
        "    :param output_size: the dimension of the prediction, type: int\n",
        "    :param num_rnn_layers: the number of layers of the RNN, type: int\n",
        "    :param num_mlp_layers: the number of layers of the MLP, type: int\n",
        "    :param rnn_type: the type of RNN, type: str\n",
        "    :param bidirectional: whether to use bidirectional rnn, type: bool\n",
        "    :param activation: the activation type, type: str\n",
        "    :param dropout_rate: the probability of dropout, type: float\n",
        "    :param batch_norm: whether to enable batch normalization, type: bool\n",
        "    :param l2_reg: the weight for the L2 regularizer, type: str\n",
        "    :param loss: the training loss, type: str\n",
        "    :param optimizer: the optimizer, type: str\n",
        "    :param learning_rate: the learning rate for the optimizer, type: float\n",
        "    :param metric: the metric, type: str\n",
        "    return a RNN for text classification,\n",
        "    # activation document: https://keras.io/activations/\n",
        "    # dropout document: https://keras.io/layers/core/#dropout\n",
        "    # embedding document: https://keras.io/layers/embeddings/#embedding\n",
        "    # recurrent layers document: https://keras.io/layers/recurrent\n",
        "    # batch normalization document: https://keras.io/layers/normalization/\n",
        "    # losses document: https://keras.io/losses/\n",
        "    # optimizers document: https://keras.io/optimizers/\n",
        "    # metrics document: https://keras.io/metrics/\n",
        "    \"\"\"\n",
        "    x = Input(shape=(input_length,))\n",
        "    \n",
        "    ################################\n",
        "    ###### Word Representation #####\n",
        "    ################################\n",
        "    # word representation layer\n",
        "    if embedding_matrix is not None:\n",
        "        emb = Embedding(input_dim=vocab_size,\n",
        "                        output_dim=embedding_size,\n",
        "                        input_length=input_length,\n",
        "                        embeddings_initializer=keras.initializers.Constant(embedding_matrix),\n",
        "                        trainable=False)(x)\n",
        "    else:\n",
        "        emb = Embedding(input_dim=vocab_size,\n",
        "                        output_dim=embedding_size,\n",
        "                        input_length=input_length,\n",
        "                        embeddings_initializer=keras.initializers.TruncatedNormal(mean=0.0, stddev=0.1, seed=0))(x)\n",
        "    \n",
        "    ################################\n",
        "    ####### Recurrent Layers #######\n",
        "    ################################\n",
        "    # recurrent layers\n",
        "    if rnn_type == \"rnn\":\n",
        "        fn = SimpleRNN\n",
        "    elif rnn_type == \"lstm\":\n",
        "        fn = LSTM\n",
        "    elif rnn_type == \"gru\":\n",
        "        fn = GRU\n",
        "    else:\n",
        "        raise NotImplementedError\n",
        "    h = emb\n",
        "    for i in range(num_rnn_layers):\n",
        "        is_last = (i == num_rnn_layers-1)\n",
        "        if bidirectional:\n",
        "            h = Bidirectional(fn(hidden_size,\n",
        "                                 kernel_initializer=keras.initializers.glorot_uniform(seed=0),\n",
        "                                 recurrent_initializer=keras.initializers.Orthogonal(gain=1.0, seed=0),\n",
        "                                 return_sequences=not is_last))(h)\n",
        "        else:\n",
        "            h = fn(hidden_size,\n",
        "                   kernel_initializer=keras.initializers.glorot_uniform(seed=0),\n",
        "                   recurrent_initializer=keras.initializers.Orthogonal(gain=1.0, seed=0),\n",
        "                   return_sequences=not is_last)(h)\n",
        "        h = Dropout(dropout_rate, seed=0)(h)\n",
        "    \n",
        "    ################################\n",
        "    #### Fully Connected Layers ####\n",
        "    ################################\n",
        "    # multi-layer perceptron\n",
        "    for i in range(num_mlp_layers-1):\n",
        "        new_h = Dense(hidden_size,\n",
        "                      kernel_initializer=keras.initializers.he_normal(seed=0),\n",
        "                      bias_initializer=\"zeros\",\n",
        "                      kernel_regularizer=keras.regularizers.l2(l2_reg))(h)\n",
        "        # add batch normalization layer\n",
        "        if batch_norm:\n",
        "            new_h = BatchNormalization()(new_h)\n",
        "        # add residual connection\n",
        "        if i == 0:\n",
        "            h = new_h\n",
        "        else:\n",
        "            h = Add()([h, new_h])\n",
        "        # add activation\n",
        "        h = Activation(activation)(h)\n",
        "    y = Dense(output_size,\n",
        "              activation=\"softmax\",\n",
        "              kernel_initializer=keras.initializers.he_normal(seed=0),\n",
        "              bias_initializer=\"zeros\")(h)\n",
        "    \n",
        "    # set the loss, the optimizer, and the metric\n",
        "    if optimizer == \"SGD\":\n",
        "        optimizer = tf.keras.optimizers.SGD(lr=learning_rate)\n",
        "    elif optimizer == \"RMSprop\":\n",
        "        optmizer = tf.keras.optimizers.RMSprop(learning_rate=learning_rate)\n",
        "    elif optimizer == \"Adam\":\n",
        "        optmizer = tf.keras.optimizers.Adam(learning_rate=learning_rate)\n",
        "    else:\n",
        "        raise NotImplementedError\n",
        "    model = Model(x, y)\n",
        "    model.compile(loss=loss, optimizer=optimizer, metrics=[metric])\n",
        "    \n",
        "    return model"
      ],
      "metadata": {
        "id": "GdTUVugG3lYL"
      },
      "execution_count": null,
      "outputs": []
    },
    {
      "cell_type": "markdown",
      "source": [
        "###Preprocessing"
      ],
      "metadata": {
        "id": "7SVt9-ZXET77"
      }
    },
    {
      "cell_type": "code",
      "source": [
        "print(train_df.shape)\n",
        "print(valid_df.shape)\n",
        "print(test_df.shape)"
      ],
      "metadata": {
        "colab": {
          "base_uri": "https://localhost:8080/"
        },
        "id": "eTzCbSkqTYFI",
        "outputId": "34f137f1-8440-4a86-a9ef-921d9cdf0c41"
      },
      "execution_count": null,
      "outputs": [
        {
          "output_type": "stream",
          "name": "stdout",
          "text": [
            "(18000, 2)\n",
            "(2000, 2)\n",
            "(4000, 2)\n"
          ]
        }
      ]
    },
    {
      "cell_type": "markdown",
      "source": [
        "Tokenize texts"
      ],
      "metadata": {
        "id": "gb4oZohAGDeW"
      }
    },
    {
      "cell_type": "code",
      "source": [
        "train_df['tokens'] = train_df['text'].map(tokenize).map(filter_stopwords).map(filter_punctuations).map(lower)\n",
        "valid_df['tokens'] = valid_df['text'].map(tokenize).map(filter_stopwords).map(filter_punctuations).map(lower)\n",
        "test_df['tokens'] = test_df['text'].map(tokenize).map(filter_stopwords).map(filter_punctuations).map(lower)"
      ],
      "metadata": {
        "id": "VNVDJ1Wu_V0D"
      },
      "execution_count": null,
      "outputs": []
    },
    {
      "cell_type": "code",
      "source": [
        "print(test_df.head())"
      ],
      "metadata": {
        "colab": {
          "base_uri": "https://localhost:8080/"
        },
        "id": "QvGMP33vSyRm",
        "outputId": "52f7250d-b1ef-49da-90f5-6ca5c4134c62"
      },
      "execution_count": null,
      "outputs": [
        {
          "output_type": "stream",
          "name": "stdout",
          "text": [
            "                                                text               review_id  \\\n",
            "0  OMG! I'm an avid spray tanner and have been al...  I77zZlSdCFAClxdjHwPcxw   \n",
            "1  Sets the standard. Authentic. Outstanding. Cou...  ioFNKarf29KGjRZdH0qC8Q   \n",
            "2  Came on 7/23/2014 with a group of 10 - service...  9429anmcYIcaEcMptJCNKQ   \n",
            "3  I love Bobs Subs! Tasty n made to order...yum!...  PsUCdt7PKjzgBC0c7xXhJA   \n",
            "4  This is my hotel of choice on the strip.  I re...  GQBlykKyShQcNeu2ivLdSA   \n",
            "\n",
            "                                              tokens  \n",
            "0  [omg, i, 'm, avid, spray, tanner, valley, with...  \n",
            "1  [sets, standard, authentic, outstanding, could...  \n",
            "2  [came, 7/23/2014, group, service, awful, food,...  \n",
            "3  [i, love, bobs, subs, tasty, n, made, order, ....  \n",
            "4  [this, hotel, choice, strip, i, really, like, ...  \n"
          ]
        }
      ]
    },
    {
      "cell_type": "markdown",
      "source": [
        ""
      ],
      "metadata": {
        "id": "0gjVaOLHGHrH"
      }
    },
    {
      "cell_type": "code",
      "source": [
        "print(train_df['tokens'][5]) #all 'n't' i.e. 'not' are maintained"
      ],
      "metadata": {
        "colab": {
          "base_uri": "https://localhost:8080/"
        },
        "id": "IE8nFXfeRJK2",
        "outputId": "f0c97f6c-de1e-42b0-c915-f6d877c879e0"
      },
      "execution_count": null,
      "outputs": [
        {
          "output_type": "stream",
          "name": "stdout",
          "text": [
            "['my', 'first', 'time', 'vegas', 'however', 'first', 'time', 'buffet', 'i', 'watched', 'tube', 'read', 'reviews', 'talked', 'friends', 'came', 'conclusion', 'place', 'best', 'food', 'money', 'it', 'wasnt', 'terrible', \"n't\", 'good', 'most', 'food', 'cold', 'undesirable', 'the', 'wicked', 'chicken', 'wings', 'good', 'the', 'bone', 'marrow', 'nice', 'touch', 'the', 'pho', 'flavorful', 'the', 'omelet', 'delicious', 'but', 'carving', 'station', 'meat', 'cold', 'the', 'pasta', 'bland', 'the', 'sushi', 'like', 'grocery', 'store', 'the', 'deserts', \"n't\", 'anything', 'crazy', 'delicious', 'honestly', 'items', 'okay', 'we', 'waited', 'hours', 'eat', 'okay', 'food', 'sure', 'i', 'left', 'full', 'i', 'would', 'much', 'rather', 'checked', 'better', 'las', 'vegas', 'food', 'i', 'came', 'i', 'saw', 'ill', 'go', 'somewhere', 'else', 'next', 'time']\n"
          ]
        }
      ]
    },
    {
      "cell_type": "code",
      "source": [
        "min_freq = 3 #select words with frequencies >= 3\n",
        "feats_dict = get_feats_dict(\n",
        "    chain.from_iterable(list(train_df['tokens'])+list(valid_df['tokens'])))\n",
        "    #,min_freq=min_freq)"
      ],
      "metadata": {
        "colab": {
          "base_uri": "https://localhost:8080/"
        },
        "id": "q8kSiiseT6ao",
        "outputId": "4445c6a4-cb63-443d-832d-14365cde5c8d"
      },
      "execution_count": null,
      "outputs": [
        {
          "output_type": "stream",
          "name": "stdout",
          "text": [
            "Size of features: 47092\n"
          ]
        }
      ]
    },
    {
      "cell_type": "code",
      "source": [
        "len(list(train_df['tokens'])+list(valid_df['tokens']))"
      ],
      "metadata": {
        "colab": {
          "base_uri": "https://localhost:8080/"
        },
        "id": "G4c7VxjwNBdd",
        "outputId": "668fe4a1-e5bc-4b89-d7f9-d79f8d8cc562"
      },
      "execution_count": null,
      "outputs": [
        {
          "output_type": "execute_result",
          "data": {
            "text/plain": [
              "20000"
            ]
          },
          "metadata": {},
          "execution_count": 70
        }
      ]
    },
    {
      "cell_type": "code",
      "source": [
        "print(dict(list(feats_dict.items())[0:10]))"
      ],
      "metadata": {
        "colab": {
          "base_uri": "https://localhost:8080/"
        },
        "id": "mJb5JF6fTogB",
        "outputId": "715b22f5-fed8-41cf-a90b-06f2ef05d7f1"
      },
      "execution_count": null,
      "outputs": [
        {
          "output_type": "stream",
          "name": "stdout",
          "text": [
            "{'i': 0, 'the': 1, \"n't\": 2, \"'s\": 3, 'food': 4, 'good': 5, 'place': 6, 'great': 7, 'service': 8, 'we': 9}\n"
          ]
        }
      ]
    },
    {
      "cell_type": "code",
      "source": [
        "max_len = 250\n",
        "\n",
        "# build the feats_matrix\n",
        "# convert each example to a index vector, and then stack vectors as a matrix\n",
        "train_feats_matrix = np.vstack(\n",
        "    [get_index_vector(f, feats_dict, max_len) for f in train_df['tokens']])\n",
        "valid_feats_matrix = np.vstack(\n",
        "    [get_index_vector(f, feats_dict, max_len) for f in valid_df['tokens']])\n",
        "test_feats_matrix = np.vstack(\n",
        "    [get_index_vector(f, feats_dict, max_len) for f in test_df['tokens']])\n",
        "\n",
        "\n",
        "# convert labels to label_matrix\n",
        "num_classes = 5\n",
        "# convert each label to a one-hot vector, and then stack vectors as a matrix\n",
        "train_label_matrix = tf.keras.utils.to_categorical(train_df['stars']-1, num_classes=num_classes)\n",
        "valid_label_matrix = tf.keras.utils.to_categorical(valid_df['stars']-1, num_classes=num_classes)"
      ],
      "metadata": {
        "id": "Bc1HO7DVUH-J"
      },
      "execution_count": null,
      "outputs": []
    },
    {
      "cell_type": "code",
      "source": [
        "print(test_feats_matrix.shape)"
      ],
      "metadata": {
        "colab": {
          "base_uri": "https://localhost:8080/"
        },
        "id": "wCFBY-j4kGMU",
        "outputId": "01990a7d-cfeb-4ce1-a520-b2767883885a"
      },
      "execution_count": null,
      "outputs": [
        {
          "output_type": "stream",
          "name": "stdout",
          "text": [
            "(4000, 250)\n"
          ]
        }
      ]
    },
    {
      "cell_type": "code",
      "source": [
        "print(train_feats_matrix.shape)\n",
        "print(train_feats_matrix[0])\n",
        "print(train_label_matrix.shape)\n",
        "print(train_label_matrix[:3])"
      ],
      "metadata": {
        "id": "pvHRMEl9Ub5H"
      },
      "execution_count": null,
      "outputs": []
    },
    {
      "cell_type": "markdown",
      "source": [
        "###Simple RNN"
      ],
      "metadata": {
        "id": "ezAffG_it5QA"
      }
    },
    {
      "cell_type": "markdown",
      "source": [
        "####LSTM"
      ],
      "metadata": {
        "id": "J0SNhstNUx5j"
      }
    },
    {
      "cell_type": "code",
      "source": [
        "os.makedirs(\"models\", exist_ok=True)\n",
        "model = build_RNN(input_length=max_len, vocab_size=len(feats_dict),\n",
        "                  embedding_size=100, hidden_size=100, output_size=num_classes,\n",
        "                  rnn_type=\"lstm\", num_rnn_layers=1, num_mlp_layers=2,\n",
        "                  activation=\"tanh\",\n",
        "                  batch_norm=True,\n",
        "                  l2_reg=0.005, dropout_rate=0.5)\n",
        "checkpointer = keras.callbacks.ModelCheckpoint(\n",
        "    filepath=os.path.join(\"models\", \"weights.hdf5\"),\n",
        "    monitor=\"val_accuracy\",\n",
        "    verbose=0,\n",
        "    save_best_only=True)\n",
        "earlystopping = keras.callbacks.EarlyStopping(\n",
        "    monitor='val_loss',\n",
        "    patience=5,\n",
        "    verbose=0)\n",
        "\n",
        "np.random.seed(0)\n",
        "tf.random.set_seed(0)\n",
        "\n",
        "with tf.device('/gpu:0'):\n",
        "  lstm_history = model.fit(train_feats_matrix, train_label_matrix,\n",
        "                    validation_split=0.1,\n",
        "                    epochs=100, batch_size=100, verbose=0,\n",
        "                    callbacks=[checkpointer, earlystopping])\n",
        "\n",
        "model = keras.models.load_model(os.path.join(\"models\", \"weights.hdf5\"))\n",
        "\n",
        "train_score = model.evaluate(train_feats_matrix, train_label_matrix,\n",
        "                             batch_size=100)\n",
        "test_score = model.evaluate(valid_feats_matrix, valid_label_matrix,\n",
        "                            batch_size=100)\n",
        "print(\"training loss:\", train_score[0], \"training accuracy\", train_score[1])\n",
        "print(\"test loss:\", test_score[0], \"test accuracy\", test_score[1])"
      ],
      "metadata": {
        "colab": {
          "base_uri": "https://localhost:8080/"
        },
        "id": "Ik1a1Zr4UwtN",
        "outputId": "55bc6a66-8650-491d-e994-6d38f4359bf8"
      },
      "execution_count": null,
      "outputs": [
        {
          "output_type": "stream",
          "name": "stdout",
          "text": [
            "180/180 [==============================] - 11s 54ms/step - loss: 1.0761 - accuracy: 0.6612\n",
            "20/20 [==============================] - 1s 39ms/step - loss: 1.2024 - accuracy: 0.6030\n",
            "training loss: 1.0760687589645386 training accuracy 0.6612222194671631\n",
            "test loss: 1.2023711204528809 test accuracy 0.6029999852180481\n"
          ]
        }
      ]
    },
    {
      "cell_type": "code",
      "source": [
        "pred = np.argmax(model.predict(valid_feats_matrix), axis = 1) + 1\n",
        "print(classification_report(valid_df[\"stars\"], pred, digits=4))"
      ],
      "metadata": {
        "colab": {
          "base_uri": "https://localhost:8080/"
        },
        "id": "WwvHxRuzqhF8",
        "outputId": "90cf9463-cb2a-4b7c-9ee3-24cd1b17df2b"
      },
      "execution_count": null,
      "outputs": [
        {
          "output_type": "stream",
          "name": "stdout",
          "text": [
            "              precision    recall  f1-score   support\n",
            "\n",
            "           1     0.5608    0.8014    0.6599       282\n",
            "           2     0.3333    0.0221    0.0414       136\n",
            "           3     0.3973    0.1368    0.2035       212\n",
            "           4     0.4378    0.3476    0.3876       466\n",
            "           5     0.6865    0.8695    0.7672       904\n",
            "\n",
            "    accuracy                         0.6030      2000\n",
            "   macro avg     0.4831    0.4355    0.4119      2000\n",
            "weighted avg     0.5561    0.6030    0.5545      2000\n",
            "\n"
          ]
        }
      ]
    },
    {
      "cell_type": "markdown",
      "source": [
        "####GRU"
      ],
      "metadata": {
        "id": "CFSr5-qlVYsK"
      }
    },
    {
      "cell_type": "code",
      "source": [
        "os.makedirs(\"models\", exist_ok=True)\n",
        "model = build_RNN(input_length=max_len, vocab_size=len(feats_dict),\n",
        "                  embedding_size=100, hidden_size=100, output_size=num_classes,\n",
        "                  rnn_type=\"gru\", num_rnn_layers=1, num_mlp_layers=2,\n",
        "                  activation=\"tanh\",\n",
        "                  batch_norm=True,\n",
        "                  l2_reg=0.005, dropout_rate=0.5)\n",
        "checkpointer = keras.callbacks.ModelCheckpoint(\n",
        "    filepath=os.path.join(\"models\", \"weights.hdf5\"),\n",
        "    monitor=\"val_accuracy\",\n",
        "    verbose=0,\n",
        "    save_best_only=True)\n",
        "earlystopping = keras.callbacks.EarlyStopping(\n",
        "    monitor='val_loss',\n",
        "    patience=5,\n",
        "    verbose=0)\n",
        "\n",
        "np.random.seed(0)\n",
        "tf.random.set_seed(0)\n",
        "\n",
        "with tf.device('/gpu:0'):\n",
        "  gru_history = model.fit(train_feats_matrix, train_label_matrix,\n",
        "                    validation_split=0.1,\n",
        "                    epochs=100, batch_size=100, verbose=0,\n",
        "                    callbacks=[checkpointer, earlystopping])\n",
        "\n",
        "model = keras.models.load_model(os.path.join(\"models\", \"weights.hdf5\"))\n",
        "\n",
        "train_score = model.evaluate(train_feats_matrix, train_label_matrix,\n",
        "                             batch_size=100)\n",
        "test_score = model.evaluate(valid_feats_matrix, valid_label_matrix,\n",
        "                            batch_size=100)\n",
        "print(\"training loss:\", train_score[0], \"training accuracy\", train_score[1])\n",
        "print(\"test loss:\", test_score[0], \"test accuracy\", test_score[1])"
      ],
      "metadata": {
        "colab": {
          "base_uri": "https://localhost:8080/"
        },
        "id": "Tf7NVfy_VbeZ",
        "outputId": "2cd97eca-4d94-4700-ba98-a4cb9dddc0b6"
      },
      "execution_count": null,
      "outputs": [
        {
          "output_type": "stream",
          "name": "stdout",
          "text": [
            "180/180 [==============================] - 7s 34ms/step - loss: 0.4706 - accuracy: 0.8539\n",
            "20/20 [==============================] - 1s 33ms/step - loss: 1.3343 - accuracy: 0.5735\n",
            "training loss: 0.47055062651634216 training accuracy 0.8538888692855835\n",
            "test loss: 1.3342888355255127 test accuracy 0.5734999775886536\n"
          ]
        }
      ]
    },
    {
      "cell_type": "code",
      "source": [
        "pred = np.argmax(model.predict(valid_feats_matrix), axis = 1) + 1\n",
        "print(classification_report(valid_df[\"stars\"], pred, digits=4))"
      ],
      "metadata": {
        "colab": {
          "base_uri": "https://localhost:8080/"
        },
        "id": "YWvL9Z2Trval",
        "outputId": "f11fe717-f370-4d40-d745-cb66d7209920"
      },
      "execution_count": null,
      "outputs": [
        {
          "output_type": "stream",
          "name": "stdout",
          "text": [
            "              precision    recall  f1-score   support\n",
            "\n",
            "           1     0.6689    0.6950    0.6817       282\n",
            "           2     0.3109    0.2721    0.2902       136\n",
            "           3     0.3519    0.2689    0.3048       212\n",
            "           4     0.3817    0.3841    0.3829       466\n",
            "           5     0.7085    0.7500    0.7286       904\n",
            "\n",
            "    accuracy                         0.5735      2000\n",
            "   macro avg     0.4844    0.4740    0.4777      2000\n",
            "weighted avg     0.5619    0.5735    0.5667      2000\n",
            "\n"
          ]
        }
      ]
    },
    {
      "cell_type": "markdown",
      "source": [
        "####Bi-directional LSTM"
      ],
      "metadata": {
        "id": "9Sd1zl-tVnbK"
      }
    },
    {
      "cell_type": "code",
      "source": [
        "os.makedirs(\"models\", exist_ok=True)\n",
        "model = build_RNN(input_length=max_len, vocab_size=len(feats_dict),\n",
        "                  embedding_size=100, hidden_size=100, output_size=num_classes,\n",
        "                  rnn_type=\"lstm\", num_rnn_layers=1, bidirectional=True, num_mlp_layers=2,\n",
        "                  activation=\"tanh\",\n",
        "                  batch_norm=True,\n",
        "                  l2_reg=0.005, dropout_rate=0.5)\n",
        "checkpointer = keras.callbacks.ModelCheckpoint(\n",
        "    filepath=os.path.join(\"models\", \"weights.hdf5\"),\n",
        "    monitor=\"val_accuracy\",\n",
        "    verbose=0,\n",
        "    save_best_only=True)\n",
        "earlystopping = keras.callbacks.EarlyStopping(\n",
        "    monitor='val_loss',\n",
        "    patience=5,\n",
        "    verbose=0)\n",
        "\n",
        "np.random.seed(0)\n",
        "tf.random.set_seed(0)\n",
        "\n",
        "with tf.device('/gpu:0'):\n",
        "  bilstm_history = model.fit(train_feats_matrix, train_label_matrix,\n",
        "                    validation_split=0.1,\n",
        "                    epochs=100, batch_size=100, verbose=0,\n",
        "                    callbacks=[checkpointer, earlystopping])\n",
        "\n",
        "model = keras.models.load_model(os.path.join(\"models\", \"weights.hdf5\"))\n",
        "\n",
        "train_score = model.evaluate(train_feats_matrix, train_label_matrix,\n",
        "                             batch_size=100)\n",
        "test_score = model.evaluate(valid_feats_matrix, valid_label_matrix,\n",
        "                            batch_size=100)\n",
        "print(\"training loss:\", train_score[0], \"training accuracy\", train_score[1])\n",
        "print(\"test loss:\", test_score[0], \"test accuracy\", test_score[1])"
      ],
      "metadata": {
        "colab": {
          "base_uri": "https://localhost:8080/"
        },
        "id": "h_mSIlaUVs4O",
        "outputId": "cce901a7-4366-4a81-bda1-af290e5b2bb7"
      },
      "execution_count": null,
      "outputs": [
        {
          "output_type": "stream",
          "name": "stdout",
          "text": [
            "180/180 [==============================] - 13s 67ms/step - loss: 1.0044 - accuracy: 0.6842\n",
            "20/20 [==============================] - 1s 68ms/step - loss: 1.1756 - accuracy: 0.6085\n",
            "training loss: 1.0044139623641968 training accuracy 0.6842222213745117\n",
            "test loss: 1.1755917072296143 test accuracy 0.6085000038146973\n"
          ]
        }
      ]
    },
    {
      "cell_type": "code",
      "source": [
        "pred = np.argmax(model.predict(valid_feats_matrix), axis = 1) + 1\n",
        "print(classification_report(valid_df[\"stars\"], pred, digits=4))"
      ],
      "metadata": {
        "colab": {
          "base_uri": "https://localhost:8080/"
        },
        "id": "FmzaRwPQrxe9",
        "outputId": "93ea5d15-5b48-4a4e-bc08-5e177b33beac"
      },
      "execution_count": null,
      "outputs": [
        {
          "output_type": "stream",
          "name": "stdout",
          "text": [
            "              precision    recall  f1-score   support\n",
            "\n",
            "           1     0.6458    0.7305    0.6855       282\n",
            "           2     0.2727    0.0882    0.1333       136\n",
            "           3     0.3846    0.1887    0.2532       212\n",
            "           4     0.4429    0.2661    0.3324       466\n",
            "           5     0.6664    0.9237    0.7742       904\n",
            "\n",
            "    accuracy                         0.6085      2000\n",
            "   macro avg     0.4825    0.4394    0.4357      2000\n",
            "weighted avg     0.5548    0.6085    0.5600      2000\n",
            "\n"
          ]
        }
      ]
    },
    {
      "cell_type": "markdown",
      "source": [
        "####Comparison"
      ],
      "metadata": {
        "id": "UVJXDQXnV3o_"
      }
    },
    {
      "cell_type": "code",
      "source": [
        "plt.figure(figsize=(10,4))\n",
        "plt.subplot(1,2,1)\n",
        "plt.plot(bilstm_history.history[\"loss\"], label=\"BiLSTM-training\", color=\"blue\", linestyle=\"dashed\")\n",
        "plt.plot(bilstm_history.history[\"val_loss\"], label=\"BiLSTM-validation\", color=\"blue\")\n",
        "plt.plot(lstm_history.history[\"loss\"], label=\"LSTM-training\", color=\"orange\", linestyle=\"dashed\")\n",
        "plt.plot(lstm_history.history[\"val_loss\"], label=\"LSTM-validation\", color=\"orange\")\n",
        "plt.plot(gru_history.history[\"loss\"], label=\"GRU-training\", color=\"gray\", linestyle=\"dashed\")\n",
        "plt.plot(gru_history.history[\"val_loss\"], label=\"GRU-validation\", color=\"gray\")\n",
        "plt.xlabel(\"Iteration\")\n",
        "plt.ylabel(\"Loss\")\n",
        "plt.legend()\n",
        "plt.subplot(1,2,2)\n",
        "plt.plot(bilstm_history.history[\"accuracy\"], label=\"BiLSTM-training\", color=\"blue\", linestyle=\"dashed\")\n",
        "plt.plot(bilstm_history.history[\"val_accuracy\"], label=\"BiLSTM-validation\", color=\"blue\")\n",
        "plt.plot(lstm_history.history[\"accuracy\"], label=\"LSTM-training\", color=\"orange\", linestyle=\"dashed\")\n",
        "plt.plot(lstm_history.history[\"val_accuracy\"], label=\"LSTM-validation\", color=\"orange\")\n",
        "plt.plot(gru_history.history[\"accuracy\"], label=\"GRU-training\", color=\"gray\", linestyle=\"dashed\")\n",
        "plt.plot(gru_history.history[\"val_accuracy\"], label=\"GRU-validation\", color=\"gray\")\n",
        "plt.xlabel(\"Iteration\")\n",
        "plt.ylabel(\"Accuracy\")\n",
        "plt.legend()\n",
        "plt.show()"
      ],
      "metadata": {
        "colab": {
          "base_uri": "https://localhost:8080/",
          "height": 279
        },
        "id": "oluzyEbIV5G3",
        "outputId": "40280de0-a6de-456f-f98c-b29e86e60157"
      },
      "execution_count": null,
      "outputs": [
        {
          "output_type": "display_data",
          "data": {
            "text/plain": [
              "<Figure size 720x288 with 2 Axes>"
            ],
            "image/png": "[encoded data removed]"
          },
          "metadata": {
            "needs_background": "light"
          }
        }
      ]
    },
    {
      "cell_type": "markdown",
      "source": [
        "Not so good, but all models are all stable and fast to train"
      ],
      "metadata": {
        "id": "T-h0VH3ZGofz"
      }
    },
    {
      "cell_type": "markdown",
      "source": [
        "###RNN with Word Embeddings"
      ],
      "metadata": {
        "id": "z9LdcFjduOuQ"
      }
    },
    {
      "cell_type": "markdown",
      "source": [
        "####GRU+FastText (best combination)"
      ],
      "metadata": {
        "id": "5fn6KyOo77-j"
      }
    },
    {
      "cell_type": "code",
      "source": [
        "!git clone https://github.com/facebookresearch/fastText.git\n",
        "%cd fastText\n",
        "!make\n",
        "!cp fasttext ../\n",
        "%cd .."
      ],
      "metadata": {
        "id": "InlXHsxlVS9K"
      },
      "execution_count": null,
      "outputs": []
    },
    {
      "cell_type": "code",
      "source": [
        "pwd"
      ],
      "metadata": {
        "id": "L5jjtbmAXQ1p"
      },
      "execution_count": null,
      "outputs": []
    },
    {
      "cell_type": "markdown",
      "source": [
        "The code below is to write save training texts into a 'reviews.txt' where each line is a sentence or a review"
      ],
      "metadata": {
        "id": "FqjaCP3Uapy4"
      }
    },
    {
      "cell_type": "code",
      "source": [
        "'''with open(\"reviews.txt\", \"w\") as f:\n",
        "    for x in train_df['tokens']:\n",
        "        sent = [w if w in feats_dict else \"<unk>\" for w in x]\n",
        "        f.write(\" \".join(sent))\n",
        "        f.write(\"\\n\")\n",
        "    for x in valid_df['tokens']:\n",
        "        sent = [w if w in feats_dict else \"<unk>\" for w in x]\n",
        "        f.write(\" \".join(sent))\n",
        "        f.write(\"\\n\")'''"
      ],
      "metadata": {
        "id": "0DTI7bckadmS"
      },
      "execution_count": null,
      "outputs": []
    },
    {
      "cell_type": "code",
      "source": [
        "data_dir"
      ],
      "metadata": {
        "colab": {
          "base_uri": "https://localhost:8080/",
          "height": 36
        },
        "id": "DLS7oHGrZAjo",
        "outputId": "a9495224-9458-4460-ef6b-750ef08215a9"
      },
      "execution_count": null,
      "outputs": [
        {
          "output_type": "execute_result",
          "data": {
            "text/plain": [
              "'/content/drive/MyDrive/Colab Notebooks/COMP4332/Project 1/data'"
            ],
            "application/vnd.google.colaboratory.intrinsic+json": {
              "type": "string"
            }
          },
          "metadata": {},
          "execution_count": 77
        }
      ]
    },
    {
      "cell_type": "code",
      "source": [
        "!./fastText/fasttext skipgram -input /content/drive/MyDrive/Colab\\ Notebooks/COMP4332/Project\\ 1/data/reviews.txt -output word2vec -dim 100 -minCount 3 -epoch 10"
      ],
      "metadata": {
        "colab": {
          "base_uri": "https://localhost:8080/"
        },
        "id": "Trp0vLryWF6o",
        "outputId": "538b2ade-b7bb-4c37-e398-da01780bc2d4"
      },
      "execution_count": null,
      "outputs": [
        {
          "output_type": "stream",
          "name": "stdout",
          "text": [
            "\rRead 1M words\rRead 2M words\rRead 2M words\n",
            "Number of words:  27908\n",
            "Number of labels: 0\n",
            "Progress: 100.0% words/sec/thread:   10484 lr:  0.000000 avg.loss:  2.156535 ETA:   0h 0m 0s\n"
          ]
        }
      ]
    },
    {
      "cell_type": "markdown",
      "source": [
        "Build embedding matrix"
      ],
      "metadata": {
        "id": "oF_FlTXCG2Ou"
      }
    },
    {
      "cell_type": "code",
      "source": [
        "embedding_matrix = np.zeros((len(feats_dict), 100), dtype=np.float32)\n",
        "with open(\"word2vec.vec\", \"r\") as f:\n",
        "    n_words, n_dim = f.readline().split()\n",
        "    n_words, n_dim = int(n_words), int(n_dim) \n",
        "    print(\"number of words:\", n_words, \"word dimension:\", n_dim)\n",
        "    while True:\n",
        "        line = f.readline()\n",
        "        if not line:\n",
        "            break\n",
        "        word, vec = line.split(\" \", 1)\n",
        "        word_idx = feats_dict.get(word, -1)\n",
        "        if word_idx != -1:\n",
        "            embedding_matrix[word_idx] = np.array(vec.split(), dtype=np.float32)"
      ],
      "metadata": {
        "colab": {
          "base_uri": "https://localhost:8080/"
        },
        "id": "ULCwKGUsX5PZ",
        "outputId": "8ca0228a-63d9-4581-9bc0-349959b807a7"
      },
      "execution_count": null,
      "outputs": [
        {
          "output_type": "stream",
          "name": "stdout",
          "text": [
            "number of words: 27908 word dimension: 100\n"
          ]
        }
      ]
    },
    {
      "cell_type": "code",
      "source": [
        "print(embedding_matrix[:5])"
      ],
      "metadata": {
        "id": "G-orta_ELSPp"
      },
      "execution_count": null,
      "outputs": []
    },
    {
      "cell_type": "code",
      "source": [
        "from keras.callbacks import Callback\n",
        "from sklearn.metrics import confusion_matrix, f1_score\n",
        "\n",
        "class Metrics(Callback):\n",
        "  \n",
        "  def on_train_begin(self, logs={}):\n",
        "    self.f1s = []\n",
        " \n",
        "  def on_epoch_end(self, epoch, logs={}):\n",
        "    val_predict = np.argmax(self.model.predict(valid_feats_matrix), axis = 1) + 1\n",
        "    val_targ = valid_df[\"stars\"]\n",
        "    f1 = f1_score(val_targ, val_predict, average='macro')\n",
        "    self.f1s.append(f1)\n",
        "    print(\"\\nmacro-f1: \",f1)\n",
        "    return\n",
        " \n",
        "metrics = Metrics()\n",
        "#pred = np.argmax(self.model.predict(valid_feats_matrix), axis = 1) + 1\n",
        "\n",
        "def f1(y_true, y_pred):\n",
        "    val_predict = np.argmax(y_true, axis = 1) + 1\n",
        "    val_targ = valid_df[\"stars\"]\n",
        "    f1 = f1_score(val_targ, val_predict, average='macro')\n",
        "    return f1"
      ],
      "metadata": {
        "id": "dv9WtLi8PitC"
      },
      "execution_count": null,
      "outputs": []
    },
    {
      "cell_type": "markdown",
      "source": [
        "Save all models"
      ],
      "metadata": {
        "id": "yMfqbNJ1d0Ck"
      }
    },
    {
      "cell_type": "code",
      "source": [
        "models_path = \"/content/drive/MyDrive/epoch1\"\n",
        "checkpoint_path = os.path.join(models_path, \"cp-{epoch:04d}.ckpt\")\n",
        "checkpoint_dir = os.path.dirname(checkpoint_path)"
      ],
      "metadata": {
        "id": "Rho-4gmsdVbQ"
      },
      "execution_count": null,
      "outputs": []
    },
    {
      "cell_type": "code",
      "source": [
        "os.makedirs(\"models\", exist_ok=True)\n",
        "model = build_RNN(input_length=max_len, vocab_size=len(feats_dict),\n",
        "                  embedding_size=100, hidden_size=100, output_size=num_classes,\n",
        "                  rnn_type=\"gru\", num_rnn_layers=1, num_mlp_layers=2,\n",
        "                  embedding_matrix=embedding_matrix,\n",
        "                  activation=\"tanh\",\n",
        "                  batch_norm=True,\n",
        "                  l2_reg=0.005, dropout_rate=0.5)\n",
        "checkpointer = keras.callbacks.ModelCheckpoint(\n",
        "    filepath=checkpoint_path,\n",
        "    monitor=\"val_accuracy\",\n",
        "    verbose=0)#,\n",
        "    #save_best_only=True)\n",
        "earlystopping = keras.callbacks.EarlyStopping(\n",
        "    monitor='val_loss',\n",
        "    patience=10,\n",
        "    verbose=0)\n",
        "\n",
        "np.random.seed(0)\n",
        "tf.random.set_seed(0)\n",
        "\n",
        "with tf.device('/gpu:0'):\n",
        "  gru_history = model.fit(train_feats_matrix, train_label_matrix,\n",
        "                    validation_split=0.1,\n",
        "                    epochs=40, batch_size=100, verbose=1,\n",
        "                    callbacks=[checkpointer, metrics])#, earlystopping]) #train for 40 epochs\n",
        "'''\n",
        "model = keras.models.load_model(os.path.join(\"/content/drive/MyDrive\", \"weights.hdf5\"))\n",
        "\n",
        "train_score = model.evaluate(train_feats_matrix, train_label_matrix,\n",
        "                             batch_size=100)\n",
        "test_score = model.evaluate(valid_feats_matrix, valid_label_matrix,\n",
        "                            batch_size=100)\n",
        "print(\"training loss:\", train_score[0], \"training accuracy\", train_score[1])\n",
        "print(\"test loss:\", test_score[0], \"test accuracy\", test_score[1])'''"
      ],
      "metadata": {
        "id": "AiRMWukKGdB1"
      },
      "execution_count": null,
      "outputs": []
    },
    {
      "cell_type": "markdown",
      "source": [
        "Loss and Accuracy"
      ],
      "metadata": {
        "id": "TpkjiknvetBJ"
      }
    },
    {
      "cell_type": "code",
      "source": [
        "plt.figure(figsize=(10,4))\n",
        "plt.subplot(1,2,1)\n",
        "plt.plot(gru_history.history[\"loss\"], label=\"GRU-training\", color=\"blue\", linestyle=\"dashed\")\n",
        "plt.plot(gru_history.history[\"val_loss\"], label=\"GRU-validation\", color=\"blue\")\n",
        "plt.xlabel(\"Iteration\")\n",
        "plt.ylabel(\"Loss\")\n",
        "plt.legend()\n",
        "plt.subplot(1,2,2)\n",
        "plt.plot(gru_history.history[\"accuracy\"], label=\"GRU-training\", color=\"blue\", linestyle=\"dashed\")\n",
        "plt.plot(gru_history.history[\"val_accuracy\"], label=\"GRU-validation\", color=\"blue\")\n",
        "plt.xlabel(\"Iteration\")\n",
        "plt.ylabel(\"Accuracy\")\n",
        "plt.legend()\n",
        "plt.show()"
      ],
      "metadata": {
        "colab": {
          "base_uri": "https://localhost:8080/",
          "height": 279
        },
        "id": "8Gs4doTnZFnw",
        "outputId": "b81df062-6b25-4f25-84d2-c076d6596ddf"
      },
      "execution_count": null,
      "outputs": [
        {
          "output_type": "display_data",
          "data": {
            "text/plain": [
              "<Figure size 720x288 with 2 Axes>"
            ],
            "image/png": "[encoded data removed]"
          },
          "metadata": {
            "needs_background": "light"
          }
        }
      ]
    },
    {
      "cell_type": "markdown",
      "source": [
        "Macro-f1 score"
      ],
      "metadata": {
        "id": "czNQzWw0exlm"
      }
    },
    {
      "cell_type": "code",
      "source": [
        "plt.plot(metrics.f1s, color=\"blue\")\n",
        "plt.xlabel(\"Iteration\")\n",
        "plt.ylabel(\"macro-f1\")\n",
        "plt.show()"
      ],
      "metadata": {
        "colab": {
          "base_uri": "https://localhost:8080/",
          "height": 279
        },
        "id": "uz0AdRVGWQGL",
        "outputId": "a10e4d1f-c940-4b3c-8e7c-aa6e7c28e0c8"
      },
      "execution_count": null,
      "outputs": [
        {
          "output_type": "display_data",
          "data": {
            "text/plain": [
              "<Figure size 432x288 with 1 Axes>"
            ],
            "image/png": "[encoded data removed]"
          },
          "metadata": {
            "needs_background": "light"
          }
        }
      ]
    },
    {
      "cell_type": "markdown",
      "source": [
        "Load best model"
      ],
      "metadata": {
        "id": "PNZYeWPwe3Lw"
      }
    },
    {
      "cell_type": "code",
      "source": [
        "os.listdir(checkpoint_dir)[:3]"
      ],
      "metadata": {
        "id": "Y25dp_6xjOz7"
      },
      "execution_count": null,
      "outputs": []
    },
    {
      "cell_type": "code",
      "source": [
        "print(np.argmax(metrics.f1s)+1)\n",
        "metrics.f1s[np.argmax(metrics.f1s)]"
      ],
      "metadata": {
        "colab": {
          "base_uri": "https://localhost:8080/"
        },
        "id": "etZx7qN9ZoBY",
        "outputId": "63ffc401-3bc7-4e92-a13f-1ce102e902a4"
      },
      "execution_count": null,
      "outputs": [
        {
          "output_type": "stream",
          "name": "stdout",
          "text": [
            "17\n"
          ]
        },
        {
          "output_type": "execute_result",
          "data": {
            "text/plain": [
              "0.5760763558042914"
            ]
          },
          "metadata": {},
          "execution_count": 91
        }
      ]
    },
    {
      "cell_type": "code",
      "source": [
        "models_path"
      ],
      "metadata": {
        "id": "9isE695pk8jh"
      },
      "execution_count": null,
      "outputs": []
    },
    {
      "cell_type": "markdown",
      "source": [
        "#####Load best model"
      ],
      "metadata": {
        "id": "lGjxozdIfPKb"
      }
    },
    {
      "cell_type": "code",
      "source": [
        "model = keras.models.load_model(os.path.join(models_path, \"cp-0017.ckpt\"))\n",
        "\n",
        "train_score = model.evaluate(train_feats_matrix, train_label_matrix,\n",
        "                             batch_size=100)\n",
        "test_score = model.evaluate(valid_feats_matrix, valid_label_matrix,\n",
        "                            batch_size=100)\n",
        "print(\"training loss:\", train_score[0], \"training accuracy\", train_score[1])\n",
        "print(\"test loss:\", test_score[0], \"test accuracy\", test_score[1])"
      ],
      "metadata": {
        "colab": {
          "base_uri": "https://localhost:8080/"
        },
        "id": "ioeR6ublfqs7",
        "outputId": "c35b0be8-0e29-4aaf-9b91-542f0b29e4d6"
      },
      "execution_count": null,
      "outputs": [
        {
          "output_type": "stream",
          "name": "stdout",
          "text": [
            "180/180 [==============================] - 35s 184ms/step - loss: 0.6912 - accuracy: 0.7156\n",
            "20/20 [==============================] - 6s 279ms/step - loss: 0.8590 - accuracy: 0.6550\n",
            "training loss: 0.6912056803703308 training accuracy 0.7155555486679077\n",
            "test loss: 0.8590195775032043 test accuracy 0.6549999713897705\n"
          ]
        }
      ]
    },
    {
      "cell_type": "code",
      "source": [
        "pred = np.argmax(model.predict(valid_feats_matrix), axis = 1) + 1\n",
        "print(classification_report(valid_df[\"stars\"], pred, digits=4))"
      ],
      "metadata": {
        "colab": {
          "base_uri": "https://localhost:8080/"
        },
        "id": "WObn6gFjgBc-",
        "outputId": "b49a23b7-305e-416a-9841-5b1df1daca39"
      },
      "execution_count": null,
      "outputs": [
        {
          "output_type": "stream",
          "name": "stdout",
          "text": [
            "              precision    recall  f1-score   support\n",
            "\n",
            "           1     0.8051    0.6738    0.7336       282\n",
            "           2     0.3204    0.4265    0.3659       136\n",
            "           3     0.4312    0.5613    0.4877       212\n",
            "           4     0.5433    0.4442    0.4888       466\n",
            "           5     0.7948    0.8142    0.8044       904\n",
            "\n",
            "    accuracy                         0.6550      2000\n",
            "   macro avg     0.5790    0.5840    0.5761      2000\n",
            "weighted avg     0.6669    0.6550    0.6575      2000\n",
            "\n"
          ]
        }
      ]
    },
    {
      "cell_type": "markdown",
      "source": [
        "evaluate.py"
      ],
      "metadata": {
        "id": "bJznsduYksVr"
      }
    },
    {
      "cell_type": "code",
      "source": [
        "pred = np.argmax(model.predict(valid_feats_matrix), axis = 1) + 1\n",
        "print(len(pred))\n",
        "# save model validation predictions\n",
        "pred_df = pd.DataFrame({'stars': pred, 'review_id': valid_df['review_id']})\n",
        "pred_df.to_csv('valid_pred.csv', index=False)"
      ],
      "metadata": {
        "colab": {
          "base_uri": "https://localhost:8080/"
        },
        "id": "LD19lM7Wo23M",
        "outputId": "a512c303-afa1-4de9-8938-7ef3459f8e4c"
      },
      "execution_count": null,
      "outputs": [
        {
          "output_type": "stream",
          "name": "stdout",
          "text": [
            "2000\n"
          ]
        }
      ]
    },
    {
      "cell_type": "code",
      "source": [
        "import pandas as pd\n",
        "from sklearn.metrics import precision_recall_fscore_support, accuracy_score\n",
        "\n",
        "ans = pd.read_csv(\"valid.csv\", usecols=[\"review_id\", \"stars\"])\n",
        "pred = pd.read_csv(\"valid_pred.csv\", usecols=[\"review_id\", \"stars\"])\n",
        "df = pd.merge(ans, pred, how=\"left\", on=[\"review_id\"])\n",
        "df.fillna(0, inplace=True)\n",
        "acc = accuracy_score(df[\"stars_x\"], df[\"stars_y\"])\n",
        "p, r, f1, _ = precision_recall_fscore_support(df[\"stars_x\"], df[\"stars_y\"], average=\"macro\")\n",
        "print(\"accuracy:\", acc, \"\\tprecision:\", p, \"\\trecall:\", r, \"\\tf1:\", f1)\n"
      ],
      "metadata": {
        "colab": {
          "base_uri": "https://localhost:8080/"
        },
        "id": "Fx2GpM-zk0FW",
        "outputId": "56a2eef8-e3c2-4f5c-b460-91036dfed959"
      },
      "execution_count": null,
      "outputs": [
        {
          "output_type": "stream",
          "name": "stdout",
          "text": [
            "accuracy: 0.655 \tprecision: 0.5789619312607682 \trecall: 0.5839831017639183 \tf1: 0.5760763558042914\n"
          ]
        }
      ]
    },
    {
      "cell_type": "markdown",
      "source": [
        "#####Final prediction"
      ],
      "metadata": {
        "id": "RpcoSFevC0X-"
      }
    },
    {
      "cell_type": "code",
      "source": [
        "pred = np.argmax(model.predict(test_feats_matrix), axis = 1) + 1\n",
        "print(len(pred))\n",
        "# save your model predictions\n",
        "pred_df = pd.DataFrame({'stars': pred, 'review_id': test_df['review_id']})\n",
        "pred_df.to_csv('pred.csv', index=False)"
      ],
      "metadata": {
        "colab": {
          "base_uri": "https://localhost:8080/"
        },
        "id": "uFgxZm3yCzqq",
        "outputId": "433abe42-2c67-4eb8-a034-1bdd3e2acad0"
      },
      "execution_count": null,
      "outputs": [
        {
          "output_type": "stream",
          "name": "stdout",
          "text": [
            "4000\n"
          ]
        }
      ]
    },
    {
      "cell_type": "markdown",
      "source": [
        "This model achieved the highest score for this approach with the macro-f1 is 0.576"
      ],
      "metadata": {
        "id": "g_GeCTK_HfPH"
      }
    },
    {
      "cell_type": "markdown",
      "source": [
        "####LSTM+Word2Vec"
      ],
      "metadata": {
        "id": "MFL_5ppQPh88"
      }
    },
    {
      "cell_type": "code",
      "source": [
        "os.makedirs(\"models\", exist_ok=True)\n",
        "model = build_RNN(input_length=max_len, vocab_size=len(feats_dict),\n",
        "                  embedding_size=100, hidden_size=100, output_size=num_classes,\n",
        "                  rnn_type=\"lstm\", num_rnn_layers=1, num_mlp_layers=2,\n",
        "                  embedding_matrix=embedding_matrix,\n",
        "                  activation=\"tanh\",\n",
        "                  batch_norm=True,\n",
        "                  l2_reg=0.005, dropout_rate=0.5)\n",
        "checkpointer = keras.callbacks.ModelCheckpoint(\n",
        "    filepath=os.path.join(\"models\", \"weights.hdf5\"),\n",
        "    monitor=\"val_accuracy\",\n",
        "    verbose=0,\n",
        "    save_best_only=True)\n",
        "earlystopping = keras.callbacks.EarlyStopping(\n",
        "    monitor='val_loss',\n",
        "    patience=10,\n",
        "    verbose=0)\n",
        "\n",
        "np.random.seed(0)\n",
        "tf.random.set_seed(0)\n",
        "\n",
        "with tf.device('/gpu:0'):\n",
        "  lstm_history = model.fit(train_feats_matrix, train_label_matrix,\n",
        "                    validation_split=0.1,\n",
        "                    epochs=50, batch_size=100, verbose=0,\n",
        "                    callbacks=[checkpointer, earlystopping])\n",
        "\n",
        "model = keras.models.load_model(os.path.join(\"models\", \"weights.hdf5\"))\n",
        "\n",
        "train_score = model.evaluate(train_feats_matrix, train_label_matrix,\n",
        "                             batch_size=100)\n",
        "test_score = model.evaluate(valid_feats_matrix, valid_label_matrix,\n",
        "                            batch_size=100)\n",
        "print(\"training loss:\", train_score[0], \"training accuracy\", train_score[1])\n",
        "print(\"test loss:\", test_score[0], \"test accuracy\", test_score[1])"
      ],
      "metadata": {
        "colab": {
          "base_uri": "https://localhost:8080/"
        },
        "id": "lL14PVtyQETr",
        "outputId": "97828263-2953-471b-b9f2-4da77bf9d49a"
      },
      "execution_count": null,
      "outputs": [
        {
          "output_type": "stream",
          "name": "stdout",
          "text": [
            "180/180 [==============================] - 1s 5ms/step - loss: 0.7777 - accuracy: 0.6792\n",
            "20/20 [==============================] - 0s 5ms/step - loss: 0.8547 - accuracy: 0.6475\n",
            "training loss: 0.7776676416397095 training accuracy 0.6791666746139526\n",
            "test loss: 0.854686439037323 test accuracy 0.6474999785423279\n"
          ]
        }
      ]
    },
    {
      "cell_type": "code",
      "source": [
        "pred = np.argmax(model.predict(valid_feats_matrix), axis = 1) + 1\n",
        "print(classification_report(valid_df[\"stars\"], pred, digits=4))"
      ],
      "metadata": {
        "colab": {
          "base_uri": "https://localhost:8080/"
        },
        "id": "AjGkeG6_QtF7",
        "outputId": "26e15189-a5e6-4e89-f4fe-bd2e608e8e4b"
      },
      "execution_count": null,
      "outputs": [
        {
          "output_type": "stream",
          "name": "stdout",
          "text": [
            "              precision    recall  f1-score   support\n",
            "\n",
            "           1     0.6716    0.8121    0.7352       282\n",
            "           2     0.4000    0.2647    0.3186       136\n",
            "           3     0.4753    0.3632    0.4118       212\n",
            "           4     0.4816    0.4785    0.4801       466\n",
            "           5     0.7733    0.8075    0.7900       904\n",
            "\n",
            "    accuracy                         0.6475      2000\n",
            "   macro avg     0.5604    0.5452    0.5471      2000\n",
            "weighted avg     0.6340    0.6475    0.6379      2000\n",
            "\n"
          ]
        }
      ]
    },
    {
      "cell_type": "code",
      "source": [
        "plt.figure(figsize=(10,4))\n",
        "plt.subplot(1,2,1)\n",
        "plt.plot(lstm_history.history[\"loss\"], label=\"LSTM-training\", color=\"blue\", linestyle=\"dashed\")\n",
        "plt.plot(lstm_history.history[\"val_loss\"], label=\"LSTM-validation\", color=\"blue\")\n",
        "plt.xlabel(\"Iteration\")\n",
        "plt.ylabel(\"Loss\")\n",
        "plt.legend()\n",
        "plt.subplot(1,2,2)\n",
        "plt.plot(lstm_history.history[\"accuracy\"], label=\"LSTM-training\", color=\"blue\", linestyle=\"dashed\")\n",
        "plt.plot(lstm_history.history[\"val_accuracy\"], label=\"LSTM-validation\", color=\"blue\")\n",
        "plt.xlabel(\"Iteration\")\n",
        "plt.ylabel(\"Accuracy\")\n",
        "plt.legend()\n",
        "plt.show()"
      ],
      "metadata": {
        "colab": {
          "base_uri": "https://localhost:8080/",
          "height": 279
        },
        "id": "1-W6QF0tT3vM",
        "outputId": "d5642c5a-9ef9-4827-84f2-02363fae1a1e"
      },
      "execution_count": null,
      "outputs": [
        {
          "output_type": "display_data",
          "data": {
            "text/plain": [
              "<Figure size 720x288 with 2 Axes>"
            ],
            "image/png": "[encoded data removed]"
          },
          "metadata": {
            "needs_background": "light"
          }
        }
      ]
    },
    {
      "cell_type": "markdown",
      "source": [
        "####BiLSTM+Word2Vec\n"
      ],
      "metadata": {
        "id": "lXTZANZ-PiHq"
      }
    },
    {
      "cell_type": "code",
      "source": [
        "os.makedirs(\"models\", exist_ok=True)\n",
        "model = build_RNN(input_length=max_len, vocab_size=len(feats_dict),\n",
        "                  embedding_size=100, hidden_size=100, output_size=num_classes,\n",
        "                  rnn_type=\"lstm\", num_rnn_layers=1, bidirectional=True, num_mlp_layers=2,\n",
        "                  embedding_matrix=embedding_matrix,\n",
        "                  activation=\"tanh\",\n",
        "                  batch_norm=True,\n",
        "                  l2_reg=0.005, dropout_rate=0.5)\n",
        "checkpointer = keras.callbacks.ModelCheckpoint(\n",
        "    filepath=os.path.join(\"models\", \"weights.hdf5\"),\n",
        "    monitor=\"val_accuracy\",\n",
        "    verbose=0,\n",
        "    save_best_only=True)\n",
        "earlystopping = keras.callbacks.EarlyStopping(\n",
        "    monitor='val_loss',\n",
        "    patience=5,\n",
        "    verbose=0)\n",
        "\n",
        "np.random.seed(0)\n",
        "tf.random.set_seed(0)\n",
        "\n",
        "with tf.device('/gpu:0'):\n",
        "  bilstm_history = model.fit(train_feats_matrix, train_label_matrix,\n",
        "                    validation_split=0.1,\n",
        "                    epochs=100, batch_size=100, verbose=0,\n",
        "                    callbacks=[checkpointer, earlystopping])\n",
        "\n",
        "model = keras.models.load_model(os.path.join(\"models\", \"weights.hdf5\"))\n",
        "\n",
        "train_score = model.evaluate(train_feats_matrix, train_label_matrix,\n",
        "                             batch_size=100)\n",
        "test_score = model.evaluate(valid_feats_matrix, valid_label_matrix,\n",
        "                            batch_size=100)\n",
        "print(\"training loss:\", train_score[0], \"training accuracy\", train_score[1])\n",
        "print(\"test loss:\", test_score[0], \"test accuracy\", test_score[1])"
      ],
      "metadata": {
        "colab": {
          "base_uri": "https://localhost:8080/"
        },
        "id": "TiXz_dwRQMXf",
        "outputId": "ca15b426-993f-4428-e22e-2400e5e902b2"
      },
      "execution_count": null,
      "outputs": [
        {
          "output_type": "stream",
          "name": "stdout",
          "text": [
            "180/180 [==============================] - 2s 8ms/step - loss: 0.7104 - accuracy: 0.7159\n",
            "20/20 [==============================] - 0s 7ms/step - loss: 0.9093 - accuracy: 0.6425\n",
            "training loss: 0.7103791832923889 training accuracy 0.7158889174461365\n",
            "test loss: 0.9092768430709839 test accuracy 0.6424999833106995\n"
          ]
        }
      ]
    },
    {
      "cell_type": "code",
      "source": [
        "pred = np.argmax(model.predict(valid_feats_matrix), axis = 1) + 1\n",
        "print(classification_report(valid_df[\"stars\"], pred, digits=4))"
      ],
      "metadata": {
        "colab": {
          "base_uri": "https://localhost:8080/"
        },
        "id": "hYYghAc2QxIM",
        "outputId": "622c9a35-d2ba-4f5c-d655-6dad7f108b4a"
      },
      "execution_count": null,
      "outputs": [
        {
          "output_type": "stream",
          "name": "stdout",
          "text": [
            "              precision    recall  f1-score   support\n",
            "\n",
            "           1     0.6500    0.8759    0.7462       282\n",
            "           2     0.3924    0.2279    0.2884       136\n",
            "           3     0.3684    0.2972    0.3290       212\n",
            "           4     0.4884    0.4957    0.4920       466\n",
            "           5     0.7949    0.7887    0.7918       904\n",
            "\n",
            "    accuracy                         0.6425      2000\n",
            "   macro avg     0.5388    0.5371    0.5295      2000\n",
            "weighted avg     0.6305    0.6425    0.6322      2000\n",
            "\n"
          ]
        }
      ]
    },
    {
      "cell_type": "code",
      "source": [
        "plt.figure(figsize=(10,4))\n",
        "plt.subplot(1,2,1)\n",
        "plt.plot(bilstm_history.history[\"loss\"], label=\"LSTM-training\", color=\"blue\", linestyle=\"dashed\")\n",
        "plt.plot(bilstm_history.history[\"val_loss\"], label=\"LSTM-validation\", color=\"blue\")\n",
        "plt.xlabel(\"Iteration\")\n",
        "plt.ylabel(\"Loss\")\n",
        "plt.legend()\n",
        "plt.subplot(1,2,2)\n",
        "plt.plot(bilstm_history.history[\"accuracy\"], label=\"LSTM-training\", color=\"blue\", linestyle=\"dashed\")\n",
        "plt.plot(bilstm_history.history[\"val_accuracy\"], label=\"LSTM-validation\", color=\"blue\")\n",
        "plt.xlabel(\"Iteration\")\n",
        "plt.ylabel(\"Accuracy\")\n",
        "plt.legend()\n",
        "plt.show()"
      ],
      "metadata": {
        "colab": {
          "base_uri": "https://localhost:8080/",
          "height": 279
        },
        "id": "qT6BAnYgUG3V",
        "outputId": "7f6dfbfc-de97-48ed-8ad0-6c27e7745385"
      },
      "execution_count": null,
      "outputs": [
        {
          "output_type": "display_data",
          "data": {
            "text/plain": [
              "<Figure size 720x288 with 2 Axes>"
            ],
            "image/png": "[encoded data removed]"
          },
          "metadata": {
            "needs_background": "light"
          }
        }
      ]
    },
    {
      "cell_type": "markdown",
      "source": [
        "Diverged already -> maybe not good"
      ],
      "metadata": {
        "id": "fOyOL4ylUyqs"
      }
    },
    {
      "cell_type": "markdown",
      "source": [
        "####GRU+GloVe\n"
      ],
      "metadata": {
        "id": "eySRvloqNA95"
      }
    },
    {
      "cell_type": "markdown",
      "source": [
        "Load GloVe"
      ],
      "metadata": {
        "id": "c3y1sNs85REI"
      }
    },
    {
      "cell_type": "code",
      "source": [
        "pwd"
      ],
      "metadata": {
        "colab": {
          "base_uri": "https://localhost:8080/",
          "height": 36
        },
        "id": "zFnpuJy55zlv",
        "outputId": "f1af0a18-9dc1-4488-be23-d1e71dfff5a3"
      },
      "execution_count": null,
      "outputs": [
        {
          "output_type": "execute_result",
          "data": {
            "text/plain": [
              "'/content'"
            ],
            "application/vnd.google.colaboratory.intrinsic+json": {
              "type": "string"
            }
          },
          "metadata": {},
          "execution_count": 14
        }
      ]
    },
    {
      "cell_type": "code",
      "source": [
        "path_to_glove_file = os.path.join('/content/drive/MyDrive','glove.6B.100d.txt')\n",
        "\n",
        "embedding_index = {}\n",
        "with open(path_to_glove_file) as f:\n",
        "    for line in f:\n",
        "        word, coefs = line.split(maxsplit=1)\n",
        "        coefs = np.fromstring(coefs, \"f\", sep=\" \")\n",
        "        embedding_index[word] = coefs\n",
        "\n",
        "print(\"Found %s word vectors.\" % len(embedding_index))"
      ],
      "metadata": {
        "colab": {
          "base_uri": "https://localhost:8080/"
        },
        "id": "0Ic2Wqbj5Qzu",
        "outputId": "126f8a65-2ab5-4a7d-daa1-d4ae5f368838"
      },
      "execution_count": null,
      "outputs": [
        {
          "output_type": "stream",
          "name": "stdout",
          "text": [
            "Found 400000 word vectors.\n"
          ]
        }
      ]
    },
    {
      "cell_type": "markdown",
      "source": [
        "Build Embedding matrix"
      ],
      "metadata": {
        "id": "bt2cVz4-8HaJ"
      }
    },
    {
      "cell_type": "code",
      "source": [
        "embedding_dim = 100\n",
        "hits = 0\n",
        "misses = 0\n",
        "\n",
        "# Prepare embedding matrix\n",
        "embedding_matrix = np.zeros((len(feats_dict), embedding_dim))\n",
        "for word, i in feats_dict.items():\n",
        "    embedding_vector = embedding_index.get(word)\n",
        "    if embedding_vector is not None:\n",
        "        # Words not found in embedding index will be all-zeros.\n",
        "        # This includes the representation for \"padding\" and \"OOV\"\n",
        "        embedding_matrix[i] = embedding_vector\n",
        "        hits += 1\n",
        "    else:\n",
        "        misses += 1\n",
        "print(\"Converted %d words (%d misses)\" % (hits, misses))\n"
      ],
      "metadata": {
        "colab": {
          "base_uri": "https://localhost:8080/"
        },
        "id": "qB-_M5xB8OVl",
        "outputId": "2522eb3d-8c80-443c-a109-bad294976429"
      },
      "execution_count": null,
      "outputs": [
        {
          "output_type": "stream",
          "name": "stdout",
          "text": [
            "Converted 31058 words (13697 misses)\n"
          ]
        }
      ]
    },
    {
      "cell_type": "code",
      "source": [
        "embedding_matrix[:5]"
      ],
      "metadata": {
        "id": "-uUSmg1y-sr6"
      },
      "execution_count": null,
      "outputs": []
    },
    {
      "cell_type": "code",
      "source": [
        "os.makedirs(\"models\", exist_ok=True)\n",
        "model = build_RNN(input_length=max_len, vocab_size=len(feats_dict),\n",
        "                  embedding_size=100, hidden_size=100, output_size=num_classes,\n",
        "                  rnn_type=\"gru\", num_rnn_layers=1, num_mlp_layers=2,\n",
        "                  embedding_matrix=embedding_matrix,\n",
        "                  activation=\"softmax\",\n",
        "                  optimizer=\"RMSprop\",\n",
        "                  batch_norm=True,\n",
        "                  l2_reg=0.005, dropout_rate=0.5)\n",
        "checkpointer = keras.callbacks.ModelCheckpoint(\n",
        "    filepath=os.path.join(\"models\", \"weights.hdf5\"),\n",
        "    monitor=\"val_accuracy\",\n",
        "    verbose=0,\n",
        "    save_best_only=True)\n",
        "earlystopping = keras.callbacks.EarlyStopping(\n",
        "    monitor='val_loss',\n",
        "    patience=10,\n",
        "    verbose=0)\n",
        "\n",
        "np.random.seed(0)\n",
        "tf.random.set_seed(0)\n",
        "\n",
        "with tf.device('/gpu:0'):\n",
        "  gru_history = model.fit(train_feats_matrix, train_label_matrix,\n",
        "                    validation_split=0.1,\n",
        "                    epochs=40, batch_size=100, verbose=0,\n",
        "                    callbacks=[checkpointer, metrics])#earlystopping, metrics])\n",
        "\n",
        "model = keras.models.load_model(os.path.join(\"models\", \"weights.hdf5\"))\n",
        "\n",
        "train_score = model.evaluate(train_feats_matrix, train_label_matrix,\n",
        "                             batch_size=100)\n",
        "test_score = model.evaluate(valid_feats_matrix, valid_label_matrix,\n",
        "                            batch_size=100)\n",
        "print(\"training loss:\", train_score[0], \"training accuracy\", train_score[1])\n",
        "print(\"test loss:\", test_score[0], \"test accuracy\", test_score[1])"
      ],
      "metadata": {
        "id": "otK1NVq7xKqg"
      },
      "execution_count": null,
      "outputs": []
    },
    {
      "cell_type": "code",
      "source": [
        "pred = np.argmax(model.predict(valid_feats_matrix), axis = 1) + 1\n",
        "print(classification_report(valid_df[\"stars\"], pred, digits=4))"
      ],
      "metadata": {
        "colab": {
          "base_uri": "https://localhost:8080/"
        },
        "id": "OI_2vCzOf4HZ",
        "outputId": "61c8a252-d40a-4e96-8e88-67752033c0c4"
      },
      "execution_count": null,
      "outputs": [
        {
          "output_type": "stream",
          "name": "stdout",
          "text": [
            "              precision    recall  f1-score   support\n",
            "\n",
            "           1     0.6687    0.7589    0.7110       282\n",
            "           2     0.3125    0.2574    0.2823       136\n",
            "           3     0.5294    0.3396    0.4138       212\n",
            "           4     0.4850    0.4163    0.4480       466\n",
            "           5     0.7413    0.8462    0.7903       904\n",
            "\n",
            "    accuracy                         0.6400      2000\n",
            "   macro avg     0.5474    0.5237    0.5291      2000\n",
            "weighted avg     0.6197    0.6400    0.6249      2000\n",
            "\n"
          ]
        }
      ]
    },
    {
      "cell_type": "code",
      "source": [
        "plt.figure(figsize=(10,4))\n",
        "plt.subplot(1,2,1)\n",
        "plt.plot(gru_history.history[\"loss\"], label=\"LSTM-training\", color=\"blue\", linestyle=\"dashed\")\n",
        "plt.plot(gru_history.history[\"val_loss\"], label=\"LSTM-validation\", color=\"blue\")\n",
        "plt.xlabel(\"Iteration\")\n",
        "plt.ylabel(\"Loss\")\n",
        "plt.legend()\n",
        "plt.subplot(1,2,2)\n",
        "plt.plot(gru_history.history[\"accuracy\"], label=\"LSTM-training\", color=\"blue\", linestyle=\"dashed\")\n",
        "plt.plot(gru_history.history[\"val_accuracy\"], label=\"LSTM-validation\", color=\"blue\")\n",
        "plt.xlabel(\"Iteration\")\n",
        "plt.ylabel(\"Accuracy\")\n",
        "plt.legend()\n",
        "plt.show()"
      ],
      "metadata": {
        "colab": {
          "base_uri": "https://localhost:8080/",
          "height": 279
        },
        "id": "xtxXbd45AZ2E",
        "outputId": "0d8b38f8-1e52-4598-e204-77e76b04731e"
      },
      "execution_count": null,
      "outputs": [
        {
          "output_type": "display_data",
          "data": {
            "text/plain": [
              "<Figure size 720x288 with 2 Axes>"
            ],
            "image/png": "[encoded data removed]"
          },
          "metadata": {
            "needs_background": "light"
          }
        }
      ]
    },
    {
      "cell_type": "markdown",
      "source": [
        "No signal for GloVe"
      ],
      "metadata": {
        "id": "wvPoXdgQHz2L"
      }
    }
  ]
}